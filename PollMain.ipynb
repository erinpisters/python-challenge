{
 "cells": [
  {
   "cell_type": "code",
   "execution_count": null,
   "metadata": {},
   "outputs": [],
   "source": []
  },
  {
   "cell_type": "code",
   "execution_count": 1,
   "metadata": {},
   "outputs": [
    {
     "name": "stdout",
     "output_type": "stream",
     "text": [
      "<_csv.reader object at 0x10a3394a8>\n",
      "CSV Header: ['Voter ID', 'County', 'Candidate']\n",
      "Election Results\n",
      "----------------\n"
     ]
    }
   ],
   "source": [
    "import os\n",
    "import csv\n",
    "\n",
    "LI = [] #creates emtpy list for id of voters \n",
    "LN = [] #creates empty list for candidate names \n",
    "\n",
    "\n",
    "with open(\"test.csv\", newline = '') as csvfile:\n",
    "\n",
    "      #CSV reader specifies delimiter and variable that holds contents\n",
    "    csvreader = csv.reader(csvfile, delimiter = ',')\n",
    "\n",
    "    print(csvreader)\n",
    "\n",
    "     #Read the header row first\n",
    "    csv_header = next(csvreader)\n",
    "    print(f\"CSV Header: {csv_header}\")\n",
    "\n",
    "    #count the number of months with for loop\n",
    "    print(\"Election Results\")\n",
    "    print(\"----------------\")\n",
    "    \n",
    "    count = 0\n",
    "    KCount = 0 \n",
    "    CCount = 0\n",
    "    LCount = 0\n",
    "    OCount = 0\n",
    "    for row in csvreader:\n",
    "        #count = count+1\n",
    "        LI.append(row[0])\n",
    "    #print(count)\n",
    "        #print(row)\n",
    "        \n",
    "        if row[2] == \"Khan\":\n",
    "            KCount = KCount+1\n",
    "        elif row[2] == \"Correy\":\n",
    "            CCount = CCount +1\n",
    "        elif row[2] == \"Li\":\n",
    "            LCount = LCount +1\n",
    "        else:\n",
    "            OCount = OCount +1\n",
    "            \n",
    "        #look to see if candidate name is already stored in LN. If not, we append it to the list. \n",
    "        if row[2] not in LN:\n",
    "            LN.append(row[2]) \n",
    "\n",
    "        #else:\n",
    "            \n",
    "  "
   ]
  },
  {
   "cell_type": "code",
   "execution_count": 9,
   "metadata": {},
   "outputs": [
    {
     "name": "stdout",
     "output_type": "stream",
     "text": [
      "Total Votes: 240\n",
      "----------------\n",
      "Khan: 66.25% (159)\n",
      "Correy: 20.42% (49)\n",
      "Li: 12.08% (29)\n",
      "O'Tooley: 1.25% (3)\n"
     ]
    }
   ],
   "source": [
    "    totvotes = len(LI)\n",
    "    print(f\"Total Votes: {totvotes}\")\n",
    "    print(\"----------------\")\n",
    "    KPer = round(KCount/totvotes *100, 3)\n",
    "    CPer = round(CCount/totvotes *100,3)\n",
    "    LPer = round(LCount/totvotes *100, 3)\n",
    "    OPer = round(OCount/totvotes *100, 3) \n",
    "    print(f\"{LN[0]}: {KPer}% ({KCount})\")\n",
    "    print(f\"{LN[1]}: {CPer}% ({CCount})\")\n",
    "    print(f\"{LN[2]}: {LPer}% ({LCount})\")\n",
    "    print(f\"{LN[3]}: {OPer}% ({OCount})\")\n",
    "   "
   ]
  },
  {
   "cell_type": "code",
   "execution_count": 28,
   "metadata": {},
   "outputs": [
    {
     "name": "stdout",
     "output_type": "stream",
     "text": [
      "-----------\n",
      "winner: ('Khan', 159)\n"
     ]
    }
   ],
   "source": [
    "    #create dictionary that stores the final scores \n",
    "    winner = 0\n",
    "    final ={\"Khan\": KCount , \"Correy\": CCount, \"Li\": LCount, \"O'Tooley\": OCount}\n",
    "    #now sort the dictionary based on the values\n",
    "    sortfinal = sorted(final.items(), key = lambda x:x[1])\n",
    "    #the last position has the highest votes because it is in acesending order\n",
    "    \n",
    "    print(\"-----------\")\n",
    "    print(f\"winner: {sortfinal[3]}\")\n",
    "    \n",
    "        \n",
    "    "
   ]
  },
  {
   "cell_type": "code",
   "execution_count": 40,
   "metadata": {},
   "outputs": [],
   "source": [
    "#push to text file \n",
    "file=open(\"Poll.txt\", \"w\")\n",
    "file.write(\"Election Results\" + \"\\n\")\n",
    "file.write(\"--------------\" + \"\\n\")\n",
    "file.write(\"Khan: \" + str(KPer) + \"% \"+ \"(\"+ (str(KCount)) + \")\" + \"\\n\")\n",
    "file.write(\"Correy: \"+ str(CPer) + \"% \" + \"(\"+ (str(CCount))+\")\"+ \"\\n\" )\n",
    "file.write(\"Li: \" + str(LPer) + \"% \"+ \"(\"+ (str(LCount)) + \")\" + \"\\n\")\n",
    "file.write(\"O'Tooley: \" + str(OPer) + \"% \"+ \"(\"+ (str(OCount)) + \")\" + \"\\n\")\n",
    "file.write(\"---------------\" + \"\\n\")\n",
    "file.write(\"Winner: \" + str(sortfinal[3])+\"\\n\")\n",
    "file.write(\"---------------\" + \"\\n\")\n",
    "file.close()"
   ]
  },
  {
   "cell_type": "code",
   "execution_count": null,
   "metadata": {},
   "outputs": [],
   "source": []
  },
  {
   "cell_type": "code",
   "execution_count": null,
   "metadata": {},
   "outputs": [],
   "source": []
  }
 ],
 "metadata": {
  "kernelspec": {
   "display_name": "Python 3",
   "language": "python",
   "name": "python3"
  },
  "language_info": {
   "codemirror_mode": {
    "name": "ipython",
    "version": 3
   },
   "file_extension": ".py",
   "mimetype": "text/x-python",
   "name": "python",
   "nbconvert_exporter": "python",
   "pygments_lexer": "ipython3",
   "version": "3.7.1"
  }
 },
 "nbformat": 4,
 "nbformat_minor": 2
}
