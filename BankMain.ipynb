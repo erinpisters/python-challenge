{
 "cells": [
  {
   "cell_type": "code",
   "execution_count": 9,
   "metadata": {},
   "outputs": [
    {
     "name": "stdout",
     "output_type": "stream",
     "text": [
      "<_csv.reader object at 0x10f4e6278>\n",
      "CSV Header: ['\\ufeffDate', 'Profit/Losses']\n",
      "Financial Analysis\n",
      "----------------\n",
      "86\n"
     ]
    }
   ],
   "source": [
    "import os\n",
    "import csv\n",
    "\n",
    "LM = [] #creates a blank list for the months \n",
    "LP = [] #creates a blank list for the profits \n",
    "LC = [] #creates a blank list to record the profit changes from month to month \n",
    "\n",
    "with open(\"budgetc.csv\", newline = '') as csvfile:\n",
    "\n",
    "      #CSV reader specifies delimiter and variable that holds contents\n",
    "    csvreader = csv.reader(csvfile, delimiter=',')\n",
    "\n",
    "    print(csvreader)\n",
    "\n",
    "     #Read the header row first\n",
    "    csv_header = next(csvreader)\n",
    "    print(f\"CSV Header: {csv_header}\")\n",
    "\n",
    "    #count the number of months with for loop\n",
    "    print(\"Financial Analysis\")\n",
    "    print(\"----------------\")\n",
    "    count = 0 \n",
    "    for row in csvreader:\n",
    "        #print(row)\n",
    "        #print(type(row)) #every row is its own list. \n",
    "        count = count + 1 \n",
    "        LM.append(row[0])\n",
    "        LP.append(float(row[1])) #make the inputs as floats \n",
    "    #print(count)\n",
    "    #print(LM)\n",
    "    #print(LP)\n",
    "    #print out length of months \n",
    "    nMonths = len(LM) \n",
    "    print(nMonths) \n",
    "    \n",
    "    \n"
   ]
  },
  {
   "cell_type": "code",
   "execution_count": 10,
   "metadata": {},
   "outputs": [
    {
     "name": "stdout",
     "output_type": "stream",
     "text": [
      "Total: $38382578.0\n"
     ]
    }
   ],
   "source": [
    "#add up the elements in the profit list \n",
    "TotalP= sum(LP)\n",
    "RTotalP= round(TotalP, 2)\n",
    "print(f\"Total: ${RTotalP}\")"
   ]
  },
  {
   "cell_type": "code",
   "execution_count": 13,
   "metadata": {},
   "outputs": [
    {
     "name": "stdout",
     "output_type": "stream",
     "text": [
      "Average Change: $-2315.12\n",
      "Greatest Increase In Profits: Feb-2012 ($1926159.0)\n",
      "Greatest Decrease In Profits: Sep-2013 ($-2196167.0)\n"
     ]
    }
   ],
   "source": [
    "#iterate over Profit List \n",
    "BigInc = 0\n",
    "BigDec = 0\n",
    "for i in range(len(LP)-1):\n",
    "    LC.append(float(LP[i+1]-LP[i]))\n",
    "    CurrChange = LP[i+1] - LP[i]\n",
    "    if CurrChange > BigInc:\n",
    "        BigInc = CurrChange\n",
    "        CurrMonthI = LM[i+1]\n",
    "    if CurrChange < BigDec:\n",
    "        BigDec = CurrChange \n",
    "        CurrMonthD = LM[i+1]\n",
    "#print(LC)\n",
    "AverageChange= sum(LC)/len(LC)\n",
    "RAvgChange = round(AverageChange, 2)\n",
    "print(f\"Average Change: ${RAvgChange}\")\n",
    "print(f\"Greatest Increase In Profits: {CurrMonthI} (${BigInc})\")\n",
    "print(f\"Greatest Decrease In Profits: {CurrMonthD} (${BigDec})\")\n"
   ]
  },
  {
   "cell_type": "code",
   "execution_count": 19,
   "metadata": {},
   "outputs": [],
   "source": [
    "#push to text file \n",
    "file=open(\"Bank.txt\", \"w\")\n",
    "file.write(\"Financial Analysis\" + \"\\n\")\n",
    "file.write(\"--------------------\" + \"\\n\")\n",
    "file.write(\"Total Months:\" + str(nMonths) + \"\\n\")\n",
    "file.write(\"Total $\" + str(RTotalP) + \"\\n\")\n",
    "file.write(\"Average Change: $\" + str(RAvgChange) + \"\\n\")\n",
    "file.write(\"Greatest Increase In Profits:\" +str(CurrMonthI) + \" $\" + str(BigInc) + \"\\n\")\n",
    "file.write(\"Biggest Decrease In Profits:\" + str(CurrMonthD) + \" $\" + str(BigDec) + \"\\n\")\n",
    "file.close()"
   ]
  },
  {
   "cell_type": "code",
   "execution_count": null,
   "metadata": {},
   "outputs": [],
   "source": []
  }
 ],
 "metadata": {
  "kernelspec": {
   "display_name": "Python 3",
   "language": "python",
   "name": "python3"
  },
  "language_info": {
   "codemirror_mode": {
    "name": "ipython",
    "version": 3
   },
   "file_extension": ".py",
   "mimetype": "text/x-python",
   "name": "python",
   "nbconvert_exporter": "python",
   "pygments_lexer": "ipython3",
   "version": "3.7.1"
  }
 },
 "nbformat": 4,
 "nbformat_minor": 2
}
